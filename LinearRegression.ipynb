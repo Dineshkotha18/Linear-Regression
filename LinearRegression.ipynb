{
 "cells": [
  {
   "cell_type": "markdown",
   "id": "267399de",
   "metadata": {},
   "source": [
    "# HoursvsMarks(ML)"
   ]
  },
  {
   "cell_type": "code",
   "execution_count": 1,
   "id": "cbbd1253",
   "metadata": {},
   "outputs": [
    {
     "name": "stdout",
     "output_type": "stream",
     "text": [
      "Requirement already satisfied: matplotlib in c:\\users\\test\\anaconda3\\lib\\site-packages (3.4.3)\n",
      "Requirement already satisfied: kiwisolver>=1.0.1 in c:\\users\\test\\anaconda3\\lib\\site-packages (from matplotlib) (1.3.1)\n",
      "Requirement already satisfied: cycler>=0.10 in c:\\users\\test\\anaconda3\\lib\\site-packages (from matplotlib) (0.10.0)\n",
      "Requirement already satisfied: numpy>=1.16 in c:\\users\\test\\anaconda3\\lib\\site-packages (from matplotlib) (1.20.3)\n",
      "Requirement already satisfied: python-dateutil>=2.7 in c:\\users\\test\\anaconda3\\lib\\site-packages (from matplotlib) (2.8.2)\n",
      "Requirement already satisfied: pillow>=6.2.0 in c:\\users\\test\\anaconda3\\lib\\site-packages (from matplotlib) (8.4.0)\n",
      "Requirement already satisfied: pyparsing>=2.2.1 in c:\\users\\test\\anaconda3\\lib\\site-packages (from matplotlib) (3.0.4)\n",
      "Requirement already satisfied: six in c:\\users\\test\\anaconda3\\lib\\site-packages (from cycler>=0.10->matplotlib) (1.16.0)\n"
     ]
    }
   ],
   "source": [
    "!pip install matplotlib"
   ]
  },
  {
   "cell_type": "code",
   "execution_count": 1,
   "id": "74ce30f2",
   "metadata": {},
   "outputs": [
    {
     "name": "stdout",
     "output_type": "stream",
     "text": [
      "Requirement already satisfied: pandas in c:\\users\\test\\anaconda3\\lib\\site-packages (1.3.4)\n",
      "Requirement already satisfied: numpy>=1.17.3 in c:\\users\\test\\anaconda3\\lib\\site-packages (from pandas) (1.20.3)\n",
      "Requirement already satisfied: pytz>=2017.3 in c:\\users\\test\\anaconda3\\lib\\site-packages (from pandas) (2021.3)\n",
      "Requirement already satisfied: python-dateutil>=2.7.3 in c:\\users\\test\\anaconda3\\lib\\site-packages (from pandas) (2.8.2)\n",
      "Requirement already satisfied: six>=1.5 in c:\\users\\test\\anaconda3\\lib\\site-packages (from python-dateutil>=2.7.3->pandas) (1.16.0)\n"
     ]
    }
   ],
   "source": [
    "!pip install pandas"
   ]
  },
  {
   "cell_type": "code",
   "execution_count": 6,
   "id": "8aa42b64",
   "metadata": {},
   "outputs": [],
   "source": [
    "import pandas as pd\n",
    "import matplotlib.pyplot as plt\n",
    "from random import choice"
   ]
  },
  {
   "cell_type": "markdown",
   "id": "ad4cc314",
   "metadata": {},
   "source": [
    "Creating a dataset"
   ]
  },
  {
   "cell_type": "code",
   "execution_count": 7,
   "id": "4dba6fad",
   "metadata": {},
   "outputs": [],
   "source": [
    "hours = []\n",
    "marks = []\n",
    "for i in range(14,44) :\n",
    "    hours.append(i + choice([1.1,2.2,-1.8,-2.3]))\n",
    "    marks.append(3*i+2+choice([1.1,2.2,-1.8,-2.3]))"
   ]
  },
  {
   "cell_type": "markdown",
   "id": "fec69eb9",
   "metadata": {},
   "source": [
    "Storing data"
   ]
  },
  {
   "cell_type": "code",
   "execution_count": 10,
   "id": "08f65075",
   "metadata": {},
   "outputs": [],
   "source": [
    "df = pd.DataFrame(list(zip(hours,marks)),columns = [\"hours\",\"marks\"])"
   ]
  },
  {
   "cell_type": "markdown",
   "id": "317650b7",
   "metadata": {},
   "source": [
    "Storing data in file"
   ]
  },
  {
   "cell_type": "code",
   "execution_count": 12,
   "id": "d829b07b",
   "metadata": {},
   "outputs": [],
   "source": [
    "df.to_csv(\"HoursvsMarks.csv\",index = False)"
   ]
  },
  {
   "cell_type": "markdown",
   "id": "d11b9479",
   "metadata": {},
   "source": [
    "Importing dataset"
   ]
  },
  {
   "cell_type": "code",
   "execution_count": 26,
   "id": "0439bc4f",
   "metadata": {},
   "outputs": [
    {
     "name": "stdout",
     "output_type": "stream",
     "text": [
      "<class 'pandas.core.frame.DataFrame'>\n"
     ]
    },
    {
     "data": {
      "text/plain": [
       "<matplotlib.collections.PathCollection at 0x211726fd340>"
      ]
     },
     "execution_count": 26,
     "metadata": {},
     "output_type": "execute_result"
    },
    {
     "data": {
      "image/png": "[encoded data removed]",
      "text/plain": [
       "<Figure size 432x288 with 1 Axes>"
      ]
     },
     "metadata": {
      "needs_background": "light"
     },
     "output_type": "display_data"
    }
   ],
   "source": [
    "dataset = pd.read_csv(\"HoursvsMarks.csv\")\n",
    "print(type(dataset))\n",
    "plt.scatter(hours,marks)"
   ]
  },
  {
   "cell_type": "markdown",
   "id": "0e12e88b",
   "metadata": {},
   "source": [
    "Storing input and output into different variables"
   ]
  },
  {
   "cell_type": "code",
   "execution_count": 43,
   "id": "536fcc74",
   "metadata": {},
   "outputs": [
    {
     "data": {
      "text/plain": [
       "array([ 42.2,  45.2,  48.2,  54.1,  53.7,  57.2,  64.2,  67.2,  69.1,\n",
       "        72.1,  71.7,  79.2,  82.2,  84.1,  84.2,  87.2,  93.1,  93.2,\n",
       "        99.1,  99.2, 105.1, 105.2, 107.7, 111.2, 118.2, 120.1, 123.1,\n",
       "       127.2, 130.2, 129.2])"
      ]
     },
     "execution_count": 43,
     "metadata": {},
     "output_type": "execute_result"
    }
   ],
   "source": [
    "dataset = pd.read_csv(\"HoursvsMarks.csv\")\n",
    "X = dataset.iloc[:, :-1].values\n",
    "y = dataset.iloc[:, -1].values\n",
    "dataset.shape\n",
    "y"
   ]
  },
  {
   "cell_type": "markdown",
   "id": "26201d3e",
   "metadata": {},
   "source": [
    "Splitting dataset into training and test dataset"
   ]
  },
  {
   "cell_type": "code",
   "execution_count": 35,
   "id": "5167cead",
   "metadata": {},
   "outputs": [
    {
     "name": "stdout",
     "output_type": "stream",
     "text": [
      "[[13.7]\n",
      " [43.1]\n",
      " [29.2]\n",
      " [26.2]\n",
      " [42.2]\n",
      " [35.7]\n",
      " [38.7]\n",
      " [23.2]]\n",
      "[ 48.2 130.2  84.1  71.7 123.1 118.2 127.2  79.2]\n"
     ]
    }
   ],
   "source": [
    "from sklearn.model_selection import train_test_split\n",
    "X_train,X_test,y_train,y_test = train_test_split(X,y,test_size = 0.25 , random_state = 0)\n",
    "print(X_test)\n",
    "print(y_test)"
   ]
  },
  {
   "cell_type": "markdown",
   "id": "175f58a5",
   "metadata": {},
   "source": [
    "Training the Simple Linear Regression model on the Training set"
   ]
  },
  {
   "cell_type": "code",
   "execution_count": 33,
   "id": "a40432ef",
   "metadata": {},
   "outputs": [
    {
     "data": {
      "text/plain": [
       "LinearRegression()"
      ]
     },
     "execution_count": 33,
     "metadata": {},
     "output_type": "execute_result"
    }
   ],
   "source": [
    "from sklearn.linear_model import LinearRegression\n",
    "regressor = LinearRegression()\n",
    "regressor.fit(X_train,y_train)"
   ]
  },
  {
   "cell_type": "markdown",
   "id": "6bc9776c",
   "metadata": {},
   "source": [
    "Predicting Test Results"
   ]
  },
  {
   "cell_type": "code",
   "execution_count": 37,
   "id": "011c784b",
   "metadata": {},
   "outputs": [
    {
     "data": {
      "text/plain": [
       "array([ 40.65894864, 133.14573714,  89.4189902 ,  79.9815628 ,\n",
       "       130.31450892, 109.86674956, 119.30417696,  70.5441354 ])"
      ]
     },
     "execution_count": 37,
     "metadata": {},
     "output_type": "execute_result"
    }
   ],
   "source": [
    "y_pred = regressor.predict(X_test)\n",
    "y_pred"
   ]
  },
  {
   "cell_type": "code",
   "execution_count": 38,
   "id": "6e14d476",
   "metadata": {},
   "outputs": [
    {
     "data": {
      "text/plain": [
       "array([ 48.2, 130.2,  84.1,  71.7, 123.1, 118.2, 127.2,  79.2])"
      ]
     },
     "execution_count": 38,
     "metadata": {},
     "output_type": "execute_result"
    }
   ],
   "source": [
    "y_test"
   ]
  },
  {
   "cell_type": "markdown",
   "id": "3ede4cf0",
   "metadata": {},
   "source": [
    "Visualising the Training set results"
   ]
  },
  {
   "cell_type": "code",
   "execution_count": 40,
   "id": "19f180fa",
   "metadata": {},
   "outputs": [
    {
     "data": {
      "image/png": "[encoded data removed]",
      "text/plain": [
       "<Figure size 432x288 with 1 Axes>"
      ]
     },
     "metadata": {
      "needs_background": "light"
     },
     "output_type": "display_data"
    }
   ],
   "source": [
    "plt.scatter(X_train, y_train, color = 'red')\n",
    "plt.plot(X_train,regressor.predict(X_train), color = 'blue')\n",
    "plt.title('Hours vs Marks (Training set)')\n",
    "plt.xlabel('Hours ')\n",
    "plt.ylabel('Marks')\n",
    "plt.show()"
   ]
  },
  {
   "cell_type": "markdown",
   "id": "ca2765fa",
   "metadata": {},
   "source": [
    "Visualising the Test set results"
   ]
  },
  {
   "cell_type": "code",
   "execution_count": 41,
   "id": "774f838f",
   "metadata": {},
   "outputs": [
    {
     "data": {
      "image/png": "[encoded data removed]",
      "text/plain": [
       "<Figure size 432x288 with 1 Axes>"
      ]
     },
     "metadata": {
      "needs_background": "light"
     },
     "output_type": "display_data"
    }
   ],
   "source": [
    "plt.scatter(X_test, y_test, color = 'red')\n",
    "plt.plot(X_train, regressor.predict(X_train), color = 'blue')\n",
    "plt.title('Hours vs Marks (Test set)')\n",
    "plt.xlabel('Hours')\n",
    "plt.ylabel('Marks')\n",
    "plt.show()"
   ]
  },
  {
   "cell_type": "code",
   "execution_count": 42,
   "id": "0f5b2e97",
   "metadata": {},
   "outputs": [
    {
     "name": "stdout",
     "output_type": "stream",
     "text": [
      "[3.14580913]\n",
      "-2.4386364716135205\n"
     ]
    }
   ],
   "source": [
    "print(regressor.coef_)\n",
    "print(regressor.intercept_)"
   ]
  },
  {
   "cell_type": "markdown",
   "id": "c01995a1",
   "metadata": {},
   "source": [
    "marks = 3.14580913x - 2.4386364716135205"
   ]
  },
  {
   "cell_type": "code",
   "execution_count": null,
   "id": "f3ac2cda",
   "metadata": {},
   "outputs": [],
   "source": []
  }
 ],
 "metadata": {
  "kernelspec": {
   "display_name": "Python 3 (ipykernel)",
   "language": "python",
   "name": "python3"
  },
  "language_info": {
   "codemirror_mode": {
    "name": "ipython",
    "version": 3
   },
   "file_extension": ".py",
   "mimetype": "text/x-python",
   "name": "python",
   "nbconvert_exporter": "python",
   "pygments_lexer": "ipython3",
   "version": "3.9.7"
  }
 },
 "nbformat": 4,
 "nbformat_minor": 5
}
