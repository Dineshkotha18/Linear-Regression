{
 "cells": [
  {
   "cell_type": "markdown",
   "id": "97f1b0aa",
   "metadata": {},
   "source": [
    "Linear Regression using Numpy"
   ]
  },
  {
   "cell_type": "markdown",
   "id": "db6c7ec4",
   "metadata": {},
   "source": [
    "Goal : y^=XW+b"
   ]
  },
  {
   "cell_type": "markdown",
   "id": "4b697fec",
   "metadata": {},
   "source": [
    "A Generating data"
   ]
  },
  {
   "cell_type": "code",
   "execution_count": 13,
   "id": "8b18c129",
   "metadata": {},
   "outputs": [],
   "source": [
    "import pandas as pd\n",
    "import numpy as np\n",
    "import matplotlib.pyplot as plt"
   ]
  },
  {
   "cell_type": "code",
   "execution_count": 14,
   "id": "26de919f",
   "metadata": {},
   "outputs": [],
   "source": [
    "SEED = 1234\n",
    "NUM_SAMPLES = 50"
   ]
  },
  {
   "cell_type": "code",
   "execution_count": 15,
   "id": "4d68f9b4",
   "metadata": {},
   "outputs": [],
   "source": [
    "def sample_generate(num_samples):\n",
    "    \"\"\"Generate dummy data for linear regression.\"\"\"\n",
    "    X = np.array(range(num_samples))\n",
    "    random_noise = np.random.uniform(-10,20, size = num_samples)\n",
    "    y = 3.5*X + random_noise\n",
    "    return X,y"
   ]
  },
  {
   "cell_type": "code",
   "execution_count": 16,
   "id": "7c985045",
   "metadata": {},
   "outputs": [
    {
     "name": "stdout",
     "output_type": "stream",
     "text": [
      "[[ 0.         17.27885036]\n",
      " [ 1.          8.39014933]\n",
      " [ 2.         14.50880507]\n",
      " [ 3.         19.41313578]\n",
      " [ 4.         27.74249339]]\n"
     ]
    }
   ],
   "source": [
    "X,y = sample_generate(num_samples = NUM_SAMPLES)\n",
    "data = np.vstack([X,y]).T ## Generate random (linear) data\n",
    "print(data[:5])"
   ]
  },
  {
   "cell_type": "code",
   "execution_count": 17,
   "id": "3f2cc6f2",
   "metadata": {},
   "outputs": [
    {
     "data": {
      "text/html": [
       "<div>\n",
       "<style scoped>\n",
       "    .dataframe tbody tr th:only-of-type {\n",
       "        vertical-align: middle;\n",
       "    }\n",
       "\n",
       "    .dataframe tbody tr th {\n",
       "        vertical-align: top;\n",
       "    }\n",
       "\n",
       "    .dataframe thead th {\n",
       "        text-align: right;\n",
       "    }\n",
       "</style>\n",
       "<table border=\"1\" class=\"dataframe\">\n",
       "  <thead>\n",
       "    <tr style=\"text-align: right;\">\n",
       "      <th></th>\n",
       "      <th>X</th>\n",
       "      <th>y</th>\n",
       "    </tr>\n",
       "  </thead>\n",
       "  <tbody>\n",
       "    <tr>\n",
       "      <th>0</th>\n",
       "      <td>0.0</td>\n",
       "      <td>17.278850</td>\n",
       "    </tr>\n",
       "    <tr>\n",
       "      <th>1</th>\n",
       "      <td>1.0</td>\n",
       "      <td>8.390149</td>\n",
       "    </tr>\n",
       "    <tr>\n",
       "      <th>2</th>\n",
       "      <td>2.0</td>\n",
       "      <td>14.508805</td>\n",
       "    </tr>\n",
       "    <tr>\n",
       "      <th>3</th>\n",
       "      <td>3.0</td>\n",
       "      <td>19.413136</td>\n",
       "    </tr>\n",
       "    <tr>\n",
       "      <th>4</th>\n",
       "      <td>4.0</td>\n",
       "      <td>27.742493</td>\n",
       "    </tr>\n",
       "  </tbody>\n",
       "</table>\n",
       "</div>"
      ],
      "text/plain": [
       "     X          y\n",
       "0  0.0  17.278850\n",
       "1  1.0   8.390149\n",
       "2  2.0  14.508805\n",
       "3  3.0  19.413136\n",
       "4  4.0  27.742493"
      ]
     },
     "execution_count": 17,
     "metadata": {},
     "output_type": "execute_result"
    }
   ],
   "source": [
    "#storing in pandas\n",
    "df = pd.DataFrame(data , columns=[\"X\", \"y\"])\n",
    "X = df[[\"X\"]].values\n",
    "y = df[[\"y\"]].values\n",
    "df.head()"
   ]
  },
  {
   "cell_type": "code",
   "execution_count": 18,
   "id": "ef135efc",
   "metadata": {},
   "outputs": [
    {
     "data": {
      "image/png": "[encoded data removed]",
      "text/plain": [
       "<Figure size 432x288 with 1 Axes>"
      ]
     },
     "metadata": {
      "needs_background": "light"
     },
     "output_type": "display_data"
    }
   ],
   "source": [
    "#plotting\n",
    "plt.title(\"Linear Regression Genetrated data\")\n",
    "plt.scatter(x = df[\"X\"] , y = df[\"y\"])\n",
    "plt.show()"
   ]
  },
  {
   "cell_type": "markdown",
   "id": "ad50ec0b",
   "metadata": {},
   "source": [
    "Splitting data"
   ]
  },
  {
   "cell_type": "code",
   "execution_count": 19,
   "id": "f674c877",
   "metadata": {},
   "outputs": [],
   "source": [
    "TRAIN_SIZE = 0.7\n",
    "VAL_SIZE = 0.15\n",
    "TEST_SIZE = 0.15"
   ]
  },
  {
   "cell_type": "code",
   "execution_count": 20,
   "id": "53b4bf3a",
   "metadata": {},
   "outputs": [],
   "source": [
    "#splitting indices\n",
    "train_start = 0\n",
    "train_end = int(0.7*NUM_SAMPLES)\n",
    "val_start = train_end\n",
    "val_end = int((TRAIN_SIZE + VAL_SIZE)*NUM_SAMPLES)\n",
    "test_start = val_end"
   ]
  },
  {
   "cell_type": "code",
   "execution_count": 21,
   "id": "9672e39c",
   "metadata": {},
   "outputs": [
    {
     "name": "stdout",
     "output_type": "stream",
     "text": [
      "X_train: (35, 1), y_train: (35, 1)\n",
      "X_val: (7, 1), y_test: (7, 1)\n",
      "X_test: (8, 1), y_test: (8, 1)\n"
     ]
    }
   ],
   "source": [
    "#splitting data\n",
    "X_train = X[train_start:train_end]\n",
    "y_train = y[train_start:train_end]\n",
    "X_val = X[val_start:val_end]\n",
    "y_val = y[val_start:val_end]\n",
    "X_test = X[test_start:]\n",
    "y_test = y[test_start:]\n",
    "print (f\"X_train: {X_train.shape}, y_train: {y_train.shape}\")\n",
    "print (f\"X_val: {X_val.shape}, y_test: {y_val.shape}\")\n",
    "print (f\"X_test: {X_test.shape}, y_test: {y_test.shape}\")"
   ]
  },
  {
   "cell_type": "markdown",
   "id": "c1c1d484",
   "metadata": {},
   "source": [
    "Standardize Data  z=(inputs - mean)/Standard deviation"
   ]
  },
  {
   "cell_type": "code",
   "execution_count": 22,
   "id": "5c4810a6",
   "metadata": {},
   "outputs": [
    {
     "name": "stdout",
     "output_type": "stream",
     "text": [
      "mean: 2.8, std: 0.2\n",
      "mean: 2.7, std: 0.4\n"
     ]
    }
   ],
   "source": [
    "#Standardizing data\n",
    "def standardize_data(data , mean , std):\n",
    "    return (data - mean)/std\n",
    "\n",
    "# Determine means and stds\n",
    "X_mean = np.mean(X_train)\n",
    "X_std = np.std(X_train)\n",
    "y_mean = np.mean(y_train)\n",
    "y_std = np.std(y_train)\n",
    "\n",
    "# Determine means and stds\n",
    "X_train = standardize_data(X_train , X_mean , X_std)\n",
    "X_test = standardize_data(X_test , X_mean , X_std)\n",
    "y_train = standardize_data(y_train , y_mean , y_std)\n",
    "y_test = standardize_data(y_test , y_mean , y_std)\n",
    "X_val = standardize_data(X_val , X_mean , X_std)\n",
    "y_val =  standardize_data(y_val , y_mean , y_std)\n",
    "\n",
    "print (f\"mean: {np.mean(X_test, axis=0)[0]:.1f}, std: {np.std(X_test, axis=0)[0]:.1f}\")\n",
    "print (f\"mean: {np.mean(y_test, axis=0)[0]:.1f}, std: {np.std(y_test, axis=0)[0]:.1f}\")"
   ]
  },
  {
   "cell_type": "markdown",
   "id": "6ff40218",
   "metadata": {},
   "source": [
    "Weights \n",
    "Our goal is to learn a linear model y^\n",
    " that models y given X using weights W and bias b"
   ]
  },
  {
   "cell_type": "markdown",
   "id": "66ef6396",
   "metadata": {},
   "source": [
    "Step 1: Randomly initialize the model's weights W."
   ]
  },
  {
   "cell_type": "code",
   "execution_count": 23,
   "id": "054d5cca",
   "metadata": {},
   "outputs": [
    {
     "name": "stdout",
     "output_type": "stream",
     "text": [
      "W: (1, 1)\n",
      "b: (1, 1)\n"
     ]
    }
   ],
   "source": [
    "INPUT_DIM = X_train.shape[1]\n",
    "OUTPUT_DIM = y_train.shape[1]\n",
    "\n",
    "W = 0.01*np.random.randn(INPUT_DIM , OUTPUT_DIM)\n",
    "b = np.zeros((1,1))\n",
    "print (f\"W: {W.shape}\")\n",
    "print (f\"b: {b.shape}\")"
   ]
  },
  {
   "cell_type": "markdown",
   "id": "acaa2d4a",
   "metadata": {},
   "source": [
    "Model"
   ]
  },
  {
   "cell_type": "markdown",
   "id": "2b955340",
   "metadata": {},
   "source": [
    "Step 2: Feed inputs X into the model to receive the predictions y^"
   ]
  },
  {
   "cell_type": "code",
   "execution_count": 24,
   "id": "fe0f4c8e",
   "metadata": {},
   "outputs": [
    {
     "name": "stdout",
     "output_type": "stream",
     "text": [
      "y_pred: (35, 1)\n"
     ]
    }
   ],
   "source": [
    "y_pred = np.dot(X_train , W) + b\n",
    "print(f\"y_pred: {y_pred.shape}\")"
   ]
  },
  {
   "cell_type": "markdown",
   "id": "ad7f0119",
   "metadata": {},
   "source": [
    "Loss  J(theta) = MSE = 1/N*sum from (i-1) to N in (yi - y^i)^2"
   ]
  },
  {
   "cell_type": "markdown",
   "id": "29833cb8",
   "metadata": {},
   "source": [
    "Step 3: Compare the predictions y^ with the actual target values y using the objective (cost) function to determine the loss J. A common objective function for linear regression is mean squared error (MSE). This function calculates the difference between the predicted and target values and squares it."
   ]
  },
  {
   "cell_type": "code",
   "execution_count": 25,
   "id": "1750c3e5",
   "metadata": {},
   "outputs": [
    {
     "name": "stdout",
     "output_type": "stream",
     "text": [
      "loss: 1.01\n"
     ]
    }
   ],
   "source": [
    "#loss\n",
    "N = len(y_train)\n",
    "loss = 1/N*np.sum((y_train - y_pred)**2)\n",
    "print (f\"loss: {loss:.2f}\")"
   ]
  },
  {
   "cell_type": "markdown",
   "id": "8454e71b",
   "metadata": {},
   "source": [
    "Gradients"
   ]
  },
  {
   "cell_type": "markdown",
   "id": "3ff72286",
   "metadata": {},
   "source": [
    "Step 4: Calculate the gradient of loss J(theta) w.r.t to the model weights."
   ]
  },
  {
   "cell_type": "code",
   "execution_count": 26,
   "id": "0cb14d72",
   "metadata": {},
   "outputs": [],
   "source": [
    "# Backpropagation\n",
    "dW = -(2/N) * np.sum((y_train - y_pred) * X_train)\n",
    "db = -(2/N) * np.sum((y_train - y_pred) * 1)"
   ]
  },
  {
   "cell_type": "markdown",
   "id": "a86f7c45",
   "metadata": {},
   "source": [
    "Update weights"
   ]
  },
  {
   "cell_type": "markdown",
   "id": "1c900ca5",
   "metadata": {},
   "source": [
    "Step 5: Update the weights W using a small learning rate alpha."
   ]
  },
  {
   "cell_type": "code",
   "execution_count": 27,
   "id": "41e0173c",
   "metadata": {},
   "outputs": [],
   "source": [
    "LEARNING_RATE = 1e-1\n",
    "# Update weights\n",
    "W += -LEARNING_RATE * dW\n",
    "b += -LEARNING_RATE * db"
   ]
  },
  {
   "cell_type": "markdown",
   "id": "e5b947a7",
   "metadata": {},
   "source": [
    "Training"
   ]
  },
  {
   "cell_type": "markdown",
   "id": "78ce3093",
   "metadata": {},
   "source": [
    "Step 6: Repeat steps 2 - 5 to minimize the loss and train the model."
   ]
  },
  {
   "cell_type": "code",
   "execution_count": 28,
   "id": "301759b9",
   "metadata": {},
   "outputs": [
    {
     "name": "stdout",
     "output_type": "stream",
     "text": [
      "Epoch: 0, loss: 0.988\n",
      "Epoch: 10, loss: 0.054\n",
      "Epoch: 20, loss: 0.043\n",
      "Epoch: 30, loss: 0.043\n",
      "Epoch: 40, loss: 0.043\n",
      "Epoch: 50, loss: 0.043\n",
      "Epoch: 60, loss: 0.043\n",
      "Epoch: 70, loss: 0.043\n",
      "Epoch: 80, loss: 0.043\n",
      "Epoch: 90, loss: 0.043\n"
     ]
    }
   ],
   "source": [
    "NUM_EPOCHS = 100\n",
    "# Initialize random weights\n",
    "W = 0.01 * np.random.randn(INPUT_DIM, OUTPUT_DIM)\n",
    "b = np.zeros((1, ))\n",
    "\n",
    "# Training loop\n",
    "for epoch_num in range(NUM_EPOCHS):\n",
    "\n",
    "    # Forward pass [NX1] · [1X1] = [NX1]\n",
    "    y_pred = np.dot(X_train, W) + b\n",
    "\n",
    "    # Loss\n",
    "    loss = (1/len(y_train)) * np.sum((y_train - y_pred)**2)\n",
    "\n",
    "    # Show progress\n",
    "    if epoch_num%10 == 0:\n",
    "        print (f\"Epoch: {epoch_num}, loss: {loss:.3f}\")\n",
    "\n",
    "    # Backpropagation\n",
    "    dW = -(2/N) * np.sum((y_train - y_pred) * X_train)\n",
    "    db = -(2/N) * np.sum((y_train - y_pred) * 1)\n",
    "\n",
    "    # Update weights\n",
    "    W += -LEARNING_RATE * dW\n",
    "    b += -LEARNING_RATE * db"
   ]
  },
  {
   "cell_type": "markdown",
   "id": "88db96b0",
   "metadata": {},
   "source": [
    "Evaluation"
   ]
  },
  {
   "cell_type": "code",
   "execution_count": 29,
   "id": "706b577a",
   "metadata": {},
   "outputs": [
    {
     "name": "stdout",
     "output_type": "stream",
     "text": [
      "train_MSE: 0.04, test_MSE: 0.06\n"
     ]
    },
    {
     "data": {
      "image/png": "[encoded data removed]",
      "text/plain": [
       "<Figure size 1080x360 with 2 Axes>"
      ]
     },
     "metadata": {
      "needs_background": "light"
     },
     "output_type": "display_data"
    }
   ],
   "source": [
    "# Predictions\n",
    "pred_train = W*X_train + b\n",
    "pred_test = W*X_test + b\n",
    "# Train and test MSE\n",
    "train_mse = np.mean((y_train - pred_train) ** 2)\n",
    "test_mse = np.mean((y_test - pred_test) ** 2)\n",
    "print (f\"train_MSE: {train_mse:.2f}, test_MSE: {test_mse:.2f}\")\n",
    "# Figure size\n",
    "plt.figure(figsize=(15,5))\n",
    "\n",
    "# Plot train data\n",
    "plt.subplot(1, 2, 1)\n",
    "plt.title(\"Train\")\n",
    "plt.scatter(X_train, y_train, label=\"y_train\")\n",
    "plt.plot(X_train, pred_train, color=\"red\", linewidth=1, linestyle=\"-\", label=\"model\")\n",
    "plt.legend(loc=\"lower right\")\n",
    "\n",
    "# Plot test data\n",
    "plt.subplot(1, 2, 2)\n",
    "plt.title(\"Test\")\n",
    "plt.scatter(X_test, y_test, label='y_test')\n",
    "plt.plot(X_test, pred_test, color=\"red\", linewidth=1, linestyle=\"-\", label=\"model\")\n",
    "plt.legend(loc=\"lower right\")\n",
    "\n",
    "# Show plots\n",
    "plt.show()"
   ]
  },
  {
   "cell_type": "markdown",
   "id": "a2daa854",
   "metadata": {},
   "source": [
    "Interpretability"
   ]
  },
  {
   "cell_type": "code",
   "execution_count": 30,
   "id": "f6e69900",
   "metadata": {},
   "outputs": [
    {
     "name": "stdout",
     "output_type": "stream",
     "text": [
      "[actual] y = 3.5X + noise\n",
      "[model] y_hat = 3.6X + 4.0\n"
     ]
    }
   ],
   "source": [
    "# Unscaled weights\n",
    "W_unscaled = W * (y_std/X_std)\n",
    "b_unscaled = b * y_std + y_mean - np.sum(W_unscaled*X_mean)\n",
    "print (\"[actual] y = 3.5X + noise\")\n",
    "print (f\"[model] y_hat = {W_unscaled[0][0]:.1f}X + {b_unscaled[0]:.1f}\")"
   ]
  }
 ],
 "metadata": {
  "kernelspec": {
   "display_name": "Python 3 (ipykernel)",
   "language": "python",
   "name": "python3"
  },
  "language_info": {
   "codemirror_mode": {
    "name": "ipython",
    "version": 3
   },
   "file_extension": ".py",
   "mimetype": "text/x-python",
   "name": "python",
   "nbconvert_exporter": "python",
   "pygments_lexer": "ipython3",
   "version": "3.9.7"
  }
 },
 "nbformat": 4,
 "nbformat_minor": 5
}
